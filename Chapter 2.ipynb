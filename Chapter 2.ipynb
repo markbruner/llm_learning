{
 "cells": [
  {
   "cell_type": "code",
   "execution_count": null,
   "id": "dfe744bc",
   "metadata": {},
   "outputs": [],
   "source": []
  }
 ],
 "metadata": {
  "language_info": {
   "name": "python"
  }
 },
 "nbformat": 4,
 "nbformat_minor": 5
}
