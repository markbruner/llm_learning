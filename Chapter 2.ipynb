{
 "cells": [
  {
   "cell_type": "code",
   "execution_count": 1,
   "id": "2f9b4f51",
   "metadata": {},
   "outputs": [],
   "source": [
    "import re\n",
    "import pandas\n",
    "import numpy\n",
    "\n",
    "import urllib.request"
   ]
  },
  {
   "cell_type": "code",
   "execution_count": 2,
   "id": "5213137f",
   "metadata": {},
   "outputs": [
    {
     "data": {
      "text/plain": [
       "('the-verdict.txt', <http.client.HTTPMessage at 0x28d798dd890>)"
      ]
     },
     "execution_count": 2,
     "metadata": {},
     "output_type": "execute_result"
    }
   ],
   "source": [
    "url = (\"https://raw.githubusercontent.com/rasbt/\"\n",
    "       \"LLMs-from-scratch/main/ch02/01_main-chapter-code/\"\n",
    "       \"the-verdict.txt\")\n",
    "file_path = \"the-verdict.txt\"\n",
    "urllib.request.urlretrieve(url,file_path)"
   ]
  },
  {
   "cell_type": "code",
   "execution_count": 3,
   "id": "d7e62be0",
   "metadata": {},
   "outputs": [
    {
     "name": "stdout",
     "output_type": "stream",
     "text": [
      "Total number of characters: 20479\n",
      "I HAD always thought Jack Gisburn rather a cheap genius--though a good fellow enough--so it was no \n"
     ]
    }
   ],
   "source": [
    "with open(\"the-verdict.txt\",\"r\",encoding=\"utf-8\") as f:\n",
    "    raw_text = f.read()\n",
    "    print(\"Total number of characters:\", len(raw_text))\n",
    "    print(raw_text[:99])"
   ]
  },
  {
   "cell_type": "code",
   "execution_count": 43,
   "id": "dfe744bc",
   "metadata": {},
   "outputs": [],
   "source": [
    "class SimpleTokenizerV1:\n",
    "    \"\"\"\n",
    "    A simple tokenizer that splits text into tokens using punctuation and whitespace,\n",
    "    maps tokens to integers (encode), and converts integer sequences back to text (decode).\n",
    "\n",
    "    Attributes\n",
    "    ----------\n",
    "    str_to_int : dict\n",
    "        A dictionary mapping string tokens to integer token IDs.\n",
    "    int_to_str : dict\n",
    "        A dictionary mapping integer token IDs to string tokens (inverse of str_to_int).\n",
    "    \"\"\"\n",
    "    def __init__(self,vocab):\n",
    "        \"\"\"\n",
    "        Initialize the tokenizer with a vocabulary.\n",
    "\n",
    "        Parameters\n",
    "        ----------\n",
    "        vocab : dict\n",
    "            A mapping {token_string: integer_id}.\n",
    "        \"\"\"\n",
    "        self.str_to_int = vocab\n",
    "        # Reverse mapping for decoding\n",
    "        self.int_to_str = {i:s for s,i in vocab.items()}\n",
    "\n",
    "    def encode(self, text):\n",
    "        \"\"\"\n",
    "        Tokenize a string into token IDs.\n",
    "\n",
    "        Steps:\n",
    "        1. Split on punctuation, quotes, parentheses, and whitespace.\n",
    "        2. Strip whitespace and remove empty strings.\n",
    "        3. Convert tokens into integer IDs using the vocabulary.\n",
    "\n",
    "        Parameters\n",
    "        ----------\n",
    "        text : str\n",
    "            Input text to tokenize.\n",
    "\n",
    "        Returns\n",
    "        -------\n",
    "        list of int\n",
    "            List of token IDs corresponding to the input text.\n",
    "        \"\"\"\n",
    "        # Split on punctuation or whitespace while keeping delimiters as tokens\n",
    "        preprocessed = re.split(r'([,.?_!\"()\\']|--|\\s)',text)\n",
    "        # Remove empty tokens and strip whitespace\n",
    "        preprocessed = [\n",
    "            item.strip() for item in preprocessed if item.strip()\n",
    "        ]\n",
    "        # Convert each token into its integer representation\n",
    "        ids = [self.str_to_int[s] for s in preprocessed]\n",
    "        return ids\n",
    "    \n",
    "    def decode(self, ids):\n",
    "        \"\"\"\n",
    "        Convert a list of token IDs back into readable text.\n",
    "\n",
    "        Steps:\n",
    "        1. Convert each ID back into a token string.\n",
    "        2. Join with spaces.\n",
    "        3. Remove extra spaces before punctuation.\n",
    "\n",
    "        Parameters\n",
    "        ----------\n",
    "        ids : list of int\n",
    "            List of token IDs.\n",
    "\n",
    "        Returns\n",
    "        -------\n",
    "        str\n",
    "            Decoded text string.\n",
    "        \"\"\"\n",
    "        # Convert integer IDs back to string tokens\n",
    "        text = \" \".join([self.int_to_str[i] for i in ids])\n",
    "\n",
    "        # Remove spaces before punctuation\n",
    "        text = re.sub(r'\\s+([,.?!\"()\\'])',r'\\1',text)\n",
    "        return text\n",
    "    \n"
   ]
  },
  {
   "cell_type": "code",
   "execution_count": 9,
   "id": "746bcde0",
   "metadata": {},
   "outputs": [
    {
     "name": "stdout",
     "output_type": "stream",
     "text": [
      "4649\n",
      "1159\n"
     ]
    }
   ],
   "source": [
    "# Split story into tokens the same way the tokenizer does\n",
    "preprocessed = re.split(r'([,.?_!\"()\\']|--|\\s)', raw_text)\n",
    "preprocessed = [item.strip() for item in preprocessed if item.strip()]\n",
    "print(len(preprocessed))\n",
    "\n",
    "all_words = sorted(set(preprocessed))\n",
    "vocab_size = len(all_words)\n",
    "print(vocab_size)"
   ]
  },
  {
   "cell_type": "code",
   "execution_count": 10,
   "id": "181f4f4e",
   "metadata": {},
   "outputs": [],
   "source": [
    "vocab = {token:integer for integer,token in enumerate(all_words)}"
   ]
  },
  {
   "cell_type": "code",
   "execution_count": 44,
   "id": "bb0e138d",
   "metadata": {},
   "outputs": [],
   "source": [
    "tokenizer = SimpleTokenizerV1(vocab)"
   ]
  },
  {
   "cell_type": "code",
   "execution_count": 45,
   "id": "0d466b01",
   "metadata": {},
   "outputs": [
    {
     "name": "stdout",
     "output_type": "stream",
     "text": [
      "[1, 58, 2, 872, 1013, 615, 541, 763, 5, 1155, 608, 5, 1, 69, 7, 39, 873, 1136, 773, 812, 7]\n"
     ]
    }
   ],
   "source": [
    "text = \"\"\"\"It's the last he painted, you know,\" Mrs. Gisburn said with pardonable pride.\"\"\"\n",
    "\n",
    "ids = tokenizer.encode(text)\n",
    "print(ids)"
   ]
  },
  {
   "cell_type": "code",
   "execution_count": 46,
   "id": "2c055b0e",
   "metadata": {},
   "outputs": [
    {
     "data": {
      "text/plain": [
       "[12]"
      ]
     },
     "execution_count": 46,
     "metadata": {},
     "output_type": "execute_result"
    }
   ],
   "source": [
    "tokenizer.encode('Ah')"
   ]
  },
  {
   "cell_type": "code",
   "execution_count": 27,
   "id": "9c281093",
   "metadata": {},
   "outputs": [
    {
     "name": "stdout",
     "output_type": "stream",
     "text": [
      "1161\n"
     ]
    }
   ],
   "source": [
    "all_tokens = sorted(list(set(preprocessed)))\n",
    "all_tokens.extend([\"<|endoftext|>\",\"<|unk|>\"])\n",
    "vocab = {token:integer for integer,token in enumerate(all_tokens)}\n",
    "print(len(vocab.items()))"
   ]
  },
  {
   "cell_type": "code",
   "execution_count": 28,
   "id": "f07d8023",
   "metadata": {},
   "outputs": [
    {
     "name": "stdout",
     "output_type": "stream",
     "text": [
      "('younger', 1156)\n",
      "('your', 1157)\n",
      "('yourself', 1158)\n",
      "('<|endoftext|>', 1159)\n",
      "('<|unk|>', 1160)\n"
     ]
    }
   ],
   "source": [
    "for i, item in enumerate(list(vocab.items())[-5:]):\n",
    "    print(item)"
   ]
  },
  {
   "cell_type": "code",
   "execution_count": 47,
   "id": "24dede59",
   "metadata": {},
   "outputs": [],
   "source": [
    "class SimpleTokenizerV2:\n",
    "    \"\"\"\n",
    "    A simple tokenizer that splits text into tokens using punctuation and whitespace,\n",
    "    maps tokens to integers (encode), and converts integer sequences back to text (decode).\n",
    "\n",
    "    Attributes\n",
    "    ----------\n",
    "    str_to_int : dict\n",
    "        A dictionary mapping string tokens to integer token IDs.\n",
    "    int_to_str : dict\n",
    "        A dictionary mapping integer token IDs to string tokens (inverse of str_to_int).\n",
    "    \"\"\"\n",
    "    def __init__(self,vocab):\n",
    "        \"\"\"\n",
    "        Initialize the tokenizer with a vocabulary.\n",
    "\n",
    "        Parameters\n",
    "        ----------\n",
    "        vocab : dict\n",
    "            A mapping {token_string: integer_id}.\n",
    "        \"\"\"\n",
    "        self.str_to_int = vocab\n",
    "        # Reverse mapping for decoding\n",
    "        self.int_to_str = {i:s for s,i in vocab.items()}\n",
    "\n",
    "    def encode(self, text):\n",
    "        \"\"\"\n",
    "        Tokenize a string into token IDs.\n",
    "\n",
    "        Steps:\n",
    "        1. Split on punctuation, quotes, parentheses, and whitespace.\n",
    "        2. Strip whitespace and remove empty strings.\n",
    "        3. Convert tokens into integer IDs using the vocabulary.\n",
    "\n",
    "        Parameters\n",
    "        ----------\n",
    "        text : str\n",
    "            Input text to tokenize.\n",
    "\n",
    "        Returns\n",
    "        -------\n",
    "        list of int\n",
    "            List of token IDs corresponding to the input text.\n",
    "        \"\"\"\n",
    "        # Split on punctuation or whitespace while keeping delimiters as tokens\n",
    "        preprocessed = re.split(r'([,.:;?_!\"()\\']|--|\\s)',text)\n",
    "        # Remove empty tokens and strip whitespace\n",
    "        preprocessed = [\n",
    "            item.strip() for item in preprocessed if item.strip()\n",
    "        ]\n",
    "        preprocessed = [item if item in self.str_to_int \n",
    "                else \"<|unk|>\" for item in preprocessed]\n",
    "        # Convert each token into its integer representation\n",
    "        ids = [self.str_to_int[s] for s in preprocessed]\n",
    "        return ids\n",
    "    \n",
    "    def decode(self, ids):\n",
    "        \"\"\"\n",
    "        Convert a list of token IDs back into readable text.\n",
    "\n",
    "        Steps:\n",
    "        1. Convert each ID back into a token string.\n",
    "        2. Join with spaces.\n",
    "        3. Remove extra spaces before punctuation.\n",
    "\n",
    "        Parameters\n",
    "        ----------\n",
    "        ids : list of int\n",
    "            List of token IDs.\n",
    "\n",
    "        Returns\n",
    "        -------\n",
    "        str\n",
    "            Decoded text string.\n",
    "        \"\"\"\n",
    "        # Convert integer IDs back to string tokens\n",
    "        text = \" \".join([self.int_to_str[i] for i in ids])\n",
    "\n",
    "        # Remove spaces before punctuation\n",
    "        text = re.sub(r'\\s+([,.:;?!\"()\\'])',r'\\1',text)\n",
    "        return text\n",
    "    \n"
   ]
  },
  {
   "cell_type": "code",
   "execution_count": 48,
   "id": "1d816827",
   "metadata": {},
   "outputs": [
    {
     "name": "stdout",
     "output_type": "stream",
     "text": [
      "Hello, do you like tea? <|endoftext|> In the sunlit terraces of the palace.\n"
     ]
    }
   ],
   "source": [
    "text1 = \"Hello, do you like tea?\"\n",
    "text2 = \"In the sunlit terraces of the palace.\"\n",
    "text = \" <|endoftext|> \".join((text1,text2))\n",
    "print(text)"
   ]
  },
  {
   "cell_type": "code",
   "execution_count": 49,
   "id": "cd7a3018",
   "metadata": {},
   "outputs": [
    {
     "data": {
      "text/plain": [
       "'Hello, do you like tea? <|endoftext|> In the sunlit terraces of the palace.'"
      ]
     },
     "execution_count": 49,
     "metadata": {},
     "output_type": "execute_result"
    }
   ],
   "source": [
    "text"
   ]
  },
  {
   "cell_type": "code",
   "execution_count": 50,
   "id": "5eea99ee",
   "metadata": {},
   "outputs": [
    {
     "name": "stdout",
     "output_type": "stream",
     "text": [
      "[1160, 5, 362, 1155, 642, 1000, 10, 1159, 57, 1013, 981, 1009, 738, 1013, 1160, 7]\n"
     ]
    }
   ],
   "source": [
    "tokenizer = SimpleTokenizerV2(vocab)\n",
    "print(tokenizer.encode(text))"
   ]
  },
  {
   "cell_type": "code",
   "execution_count": 1,
   "id": "637856bc",
   "metadata": {},
   "outputs": [
    {
     "name": "stdout",
     "output_type": "stream",
     "text": [
      "tiktoken version: 0.12.0\n"
     ]
    }
   ],
   "source": [
    "from importlib.metadata import version\n",
    "import tiktoken\n",
    "print(\"tiktoken version:\", version(\"tiktoken\"))"
   ]
  },
  {
   "cell_type": "code",
   "execution_count": 2,
   "id": "809cdbd6",
   "metadata": {},
   "outputs": [],
   "source": [
    "tokenizer = tiktoken.get_encoding('gpt2')"
   ]
  },
  {
   "cell_type": "code",
   "execution_count": 3,
   "id": "2923faf0",
   "metadata": {},
   "outputs": [],
   "source": [
    "text = (\n",
    "    \"Hello, do you think tea? <|endoftext|> In the sunlit terraces\"\n",
    "    \"of someunknownPlace.\"\n",
    ")\n",
    "\n",
    "integers = tokenizer.encode(text, allowed_special={\"<|endoftext|>\"})"
   ]
  },
  {
   "cell_type": "code",
   "execution_count": 4,
   "id": "35452f6d",
   "metadata": {},
   "outputs": [
    {
     "name": "stdout",
     "output_type": "stream",
     "text": [
      "[15496, 11, 466, 345, 892, 8887, 30, 220, 50256, 554, 262, 4252, 18250, 8812, 2114, 1659, 617, 34680, 27271, 13]\n"
     ]
    }
   ],
   "source": [
    "print(integers)"
   ]
  },
  {
   "cell_type": "code",
   "execution_count": 5,
   "id": "9376d240",
   "metadata": {},
   "outputs": [
    {
     "name": "stdout",
     "output_type": "stream",
     "text": [
      "[33901, 86, 343, 86, 220, 959]\n"
     ]
    }
   ],
   "source": [
    "integers = tokenizer.encode(\"Akwirw ier\")\n",
    "print(integers)"
   ]
  },
  {
   "cell_type": "code",
   "execution_count": 10,
   "id": "a7d3f6b8",
   "metadata": {},
   "outputs": [
    {
     "name": "stdout",
     "output_type": "stream",
     "text": [
      "Ak\n",
      "w\n",
      "ir\n",
      "w\n",
      " \n",
      "ier\n"
     ]
    }
   ],
   "source": [
    "for i in integers:\n",
    "    print(tokenizer.decode([i])) "
   ]
  },
  {
   "cell_type": "code",
   "execution_count": 6,
   "id": "757be102",
   "metadata": {},
   "outputs": [
    {
     "data": {
      "text/plain": [
       "'Akwirw ier'"
      ]
     },
     "execution_count": 6,
     "metadata": {},
     "output_type": "execute_result"
    }
   ],
   "source": [
    "tokenizer.decode(integers)"
   ]
  }
 ],
 "metadata": {
  "kernelspec": {
   "display_name": "Python 3",
   "language": "python",
   "name": "python3"
  },
  "language_info": {
   "codemirror_mode": {
    "name": "ipython",
    "version": 3
   },
   "file_extension": ".py",
   "mimetype": "text/x-python",
   "name": "python",
   "nbconvert_exporter": "python",
   "pygments_lexer": "ipython3",
   "version": "3.11.9"
  }
 },
 "nbformat": 4,
 "nbformat_minor": 5
}
